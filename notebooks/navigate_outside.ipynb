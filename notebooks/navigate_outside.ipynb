{
 "cells": [
  {
   "cell_type": "code",
   "execution_count": 1,
   "metadata": {},
   "outputs": [],
   "source": [
    "import pandas as pd\n",
    "import requests\n",
    "import bs4\n",
    "from bs4 import BeautifulSoup\n",
    "\n",
    "def load_html(url: str) -> str:\n",
    "    return requests.get(url).text"
   ]
  },
  {
   "cell_type": "code",
   "execution_count": 12,
   "metadata": {},
   "outputs": [],
   "source": [
    "URL = 'http://transparencia.alesc.sc.gov.br/presenca_plenaria.php'\n",
    "html = load_html(URL)"
   ]
  },
  {
   "cell_type": "code",
   "execution_count": 13,
   "metadata": {},
   "outputs": [],
   "source": [
    "soup = BeautifulSoup(html, 'html.parser')"
   ]
  },
  {
   "cell_type": "code",
   "execution_count": 16,
   "metadata": {},
   "outputs": [],
   "source": [
    "oi = soup.find('table', {'summary': \"Presença dos Deputados\"})"
   ]
  },
  {
   "cell_type": "code",
   "execution_count": 19,
   "metadata": {},
   "outputs": [],
   "source": [
    "ola = oi.findAll('tr', {'style': \"text-align: center;\"})"
   ]
  },
  {
   "cell_type": "code",
   "execution_count": 23,
   "metadata": {},
   "outputs": [],
   "source": [
    "tds = ola[0].findAll('td')"
   ]
  },
  {
   "cell_type": "code",
   "execution_count": 48,
   "metadata": {},
   "outputs": [
    {
     "data": {
      "text/plain": [
       "'presenca_plenaria_detalhes.php?id=1786'"
      ]
     },
     "execution_count": 48,
     "metadata": {},
     "output_type": "execute_result"
    }
   ],
   "source": [
    "tds[3].find('a').attrs['href']"
   ]
  },
  {
   "cell_type": "code",
   "execution_count": 49,
   "metadata": {},
   "outputs": [],
   "source": [
    "date_href_tuples = []\n",
    "for tr in ola:\n",
    "    tds = tr.findAll('td')\n",
    "    date = tds[2].text\n",
    "    href = tds[3].find('a').attrs['href']\n",
    "    date_href_tuples.append((date, href))"
   ]
  },
  {
   "cell_type": "code",
   "execution_count": 50,
   "metadata": {},
   "outputs": [
    {
     "data": {
      "text/plain": [
       "[('26/09/2019', 'presenca_plenaria_detalhes.php?id=1786'),\n",
       " ('25/09/2019', 'presenca_plenaria_detalhes.php?id=1785'),\n",
       " ('24/09/2019', 'presenca_plenaria_detalhes.php?id=1784'),\n",
       " ('19/09/2019', 'presenca_plenaria_detalhes.php?id=1783'),\n",
       " ('18/09/2019', 'presenca_plenaria_detalhes.php?id=1781'),\n",
       " ('17/09/2019', 'presenca_plenaria_detalhes.php?id=1779'),\n",
       " ('12/09/2019', 'presenca_plenaria_detalhes.php?id=1778'),\n",
       " ('11/09/2019', 'presenca_plenaria_detalhes.php?id=1776'),\n",
       " ('05/09/2019', 'presenca_plenaria_detalhes.php?id=1775'),\n",
       " ('04/09/2019', 'presenca_plenaria_detalhes.php?id=1773'),\n",
       " ('03/09/2019', 'presenca_plenaria_detalhes.php?id=1772')]"
      ]
     },
     "execution_count": 50,
     "metadata": {},
     "output_type": "execute_result"
    }
   ],
   "source": [
    "date_href_tuples"
   ]
  },
  {
   "cell_type": "code",
   "execution_count": null,
   "metadata": {},
   "outputs": [],
   "source": []
  },
  {
   "cell_type": "code",
   "execution_count": null,
   "metadata": {},
   "outputs": [],
   "source": []
  },
  {
   "cell_type": "code",
   "execution_count": null,
   "metadata": {},
   "outputs": [],
   "source": []
  },
  {
   "cell_type": "code",
   "execution_count": null,
   "metadata": {},
   "outputs": [],
   "source": []
  },
  {
   "cell_type": "code",
   "execution_count": null,
   "metadata": {},
   "outputs": [],
   "source": []
  },
  {
   "cell_type": "code",
   "execution_count": null,
   "metadata": {},
   "outputs": [],
   "source": []
  },
  {
   "cell_type": "code",
   "execution_count": null,
   "metadata": {},
   "outputs": [],
   "source": []
  },
  {
   "cell_type": "code",
   "execution_count": null,
   "metadata": {},
   "outputs": [],
   "source": []
  }
 ],
 "metadata": {
  "kernelspec": {
   "display_name": "Python 3",
   "language": "python",
   "name": "python3"
  },
  "language_info": {
   "codemirror_mode": {
    "name": "ipython",
    "version": 3
   },
   "file_extension": ".py",
   "mimetype": "text/x-python",
   "name": "python",
   "nbconvert_exporter": "python",
   "pygments_lexer": "ipython3",
   "version": "3.7.1"
  }
 },
 "nbformat": 4,
 "nbformat_minor": 2
}
