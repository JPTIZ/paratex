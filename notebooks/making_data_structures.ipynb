{
 "cells": [
  {
   "cell_type": "code",
   "execution_count": 11,
   "metadata": {},
   "outputs": [],
   "source": [
    "import pandas as pd\n",
    "import requests\n",
    "import bs4\n",
    "from bs4 import BeautifulSoup"
   ]
  },
  {
   "cell_type": "code",
   "execution_count": 12,
   "metadata": {},
   "outputs": [],
   "source": [
    "def load_html(url: str) -> str:\n",
    "    return requests.get(url).text"
   ]
  },
  {
   "cell_type": "code",
   "execution_count": 13,
   "metadata": {},
   "outputs": [],
   "source": [
    "URL = 'http://transparencia.alesc.sc.gov.br/presenca_plenaria_detalhes.php?id=1783'\n",
    "html = load_html(URL)"
   ]
  },
  {
   "cell_type": "code",
   "execution_count": 14,
   "metadata": {},
   "outputs": [],
   "source": [
    "soup = BeautifulSoup(html, 'html.parser')\n",
    "aux = soup.find_all('tr')\n",
    "ce = [i for i in aux if i.find('img') is None]"
   ]
  },
  {
   "cell_type": "code",
   "execution_count": 15,
   "metadata": {},
   "outputs": [],
   "source": [
    "def build_one_observation(tr: bs4.element.Tag, date:str) -> (str, str, str, str):\n",
    "    # (Name, Presence, Justification, Date)\n",
    "    td = tr.findAll('td') \n",
    "    name = td[0].text\n",
    "    \n",
    "    aux =  td[1]\n",
    "    if aux.find('a') == None:\n",
    "        presence = aux.text.replace(\" \", \"\").strip()\n",
    "        justification = 'x'\n",
    "    else:\n",
    "        presence = aux.find('a').text.strip()\n",
    "        justification = aux.find('div').text.strip()\n",
    "        \n",
    "    return (name, presence, justification, date)"
   ]
  },
  {
   "cell_type": "code",
   "execution_count": 16,
   "metadata": {},
   "outputs": [],
   "source": [
    "observations = [build_one_observation(entry, '20-10-2010') for entry in ce]"
   ]
  },
  {
   "cell_type": "code",
   "execution_count": 17,
   "metadata": {},
   "outputs": [
    {
     "data": {
      "text/html": [
       "<div>\n",
       "<style scoped>\n",
       "    .dataframe tbody tr th:only-of-type {\n",
       "        vertical-align: middle;\n",
       "    }\n",
       "\n",
       "    .dataframe tbody tr th {\n",
       "        vertical-align: top;\n",
       "    }\n",
       "\n",
       "    .dataframe thead th {\n",
       "        text-align: right;\n",
       "    }\n",
       "</style>\n",
       "<table border=\"1\" class=\"dataframe\">\n",
       "  <thead>\n",
       "    <tr style=\"text-align: right;\">\n",
       "      <th></th>\n",
       "      <th>Nome</th>\n",
       "      <th>Presenca</th>\n",
       "      <th>Justificativa</th>\n",
       "      <th>Data</th>\n",
       "    </tr>\n",
       "  </thead>\n",
       "  <tbody>\n",
       "    <tr>\n",
       "      <td>0</td>\n",
       "      <td>Ada De Luca</td>\n",
       "      <td>Outras</td>\n",
       "      <td>Reunião do inventário referente ao falecimento...</td>\n",
       "      <td>20-10-2010</td>\n",
       "    </tr>\n",
       "    <tr>\n",
       "      <td>1</td>\n",
       "      <td>Altair Silva</td>\n",
       "      <td>Atividade Parlamentar Externa</td>\n",
       "      <td>Participar da Reunião Alianza Mercosur - Unión...</td>\n",
       "      <td>20-10-2010</td>\n",
       "    </tr>\n",
       "    <tr>\n",
       "      <td>2</td>\n",
       "      <td>Ana Campagnolo</td>\n",
       "      <td>Presente</td>\n",
       "      <td>x</td>\n",
       "      <td>20-10-2010</td>\n",
       "    </tr>\n",
       "    <tr>\n",
       "      <td>3</td>\n",
       "      <td>Bruno Souza</td>\n",
       "      <td>Presente</td>\n",
       "      <td>x</td>\n",
       "      <td>20-10-2010</td>\n",
       "    </tr>\n",
       "    <tr>\n",
       "      <td>4</td>\n",
       "      <td>Doutor Vicente</td>\n",
       "      <td>Presente</td>\n",
       "      <td>x</td>\n",
       "      <td>20-10-2010</td>\n",
       "    </tr>\n",
       "  </tbody>\n",
       "</table>\n",
       "</div>"
      ],
      "text/plain": [
       "             Nome                       Presenca  \\\n",
       "0     Ada De Luca                         Outras   \n",
       "1    Altair Silva  Atividade Parlamentar Externa   \n",
       "2  Ana Campagnolo                       Presente   \n",
       "3     Bruno Souza                       Presente   \n",
       "4  Doutor Vicente                       Presente   \n",
       "\n",
       "                                       Justificativa        Data  \n",
       "0  Reunião do inventário referente ao falecimento...  20-10-2010  \n",
       "1  Participar da Reunião Alianza Mercosur - Unión...  20-10-2010  \n",
       "2                                                  x  20-10-2010  \n",
       "3                                                  x  20-10-2010  \n",
       "4                                                  x  20-10-2010  "
      ]
     },
     "execution_count": 17,
     "metadata": {},
     "output_type": "execute_result"
    }
   ],
   "source": [
    "oi = pd.DataFrame(observations)\n",
    "oi = oi.rename({0:'Nome', 1:'Presenca', 2:'Justificativa', 3:'Data'}, axis=1)\n",
    "oi.head()"
   ]
  },
  {
   "cell_type": "code",
   "execution_count": null,
   "metadata": {},
   "outputs": [],
   "source": []
  },
  {
   "cell_type": "code",
   "execution_count": 18,
   "metadata": {},
   "outputs": [
    {
     "data": {
      "text/plain": [
       "bs4.element.Tag"
      ]
     },
     "execution_count": 18,
     "metadata": {},
     "output_type": "execute_result"
    }
   ],
   "source": [
    "type(ce[1])"
   ]
  },
  {
   "cell_type": "code",
   "execution_count": 19,
   "metadata": {},
   "outputs": [
    {
     "data": {
      "text/plain": [
       "<tr>\n",
       "<td>Sargento Lima</td>\n",
       "<td>\n",
       "<a class=\"LocalJustificativaAusencia\" href=\"javascript:;\">Atividade Parlamentar Externa</a><div class=\"LocalJustificativaAusencia\">Viagem  para Brasilia com o objetivo de apresentar sugestão de alteração do Pacote Anticrime do Governo Federal que tramita no Congresso Nacional e articulação junto aos Deputados Federais e Senadores.</div> </td>\n",
       "</tr>"
      ]
     },
     "execution_count": 19,
     "metadata": {},
     "output_type": "execute_result"
    }
   ],
   "source": [
    "ce[-4]"
   ]
  },
  {
   "cell_type": "code",
   "execution_count": 18,
   "metadata": {},
   "outputs": [
    {
     "data": {
      "text/plain": [
       "<tr>\n",
       "<td>Altair Silva</td>\n",
       "<td>\n",
       "<a class=\"LocalJustificativaAusencia\" href=\"javascript:;\">Atividade Parlamentar Externa</a><div class=\"LocalJustificativaAusencia\">Participar da Reunião Alianza Mercosur - Unión Europea, que acontecerá no dia 29 de setembro em La Plata - Província de Buenos Aires, Argentina.</div> </td>\n",
       "</tr>"
      ]
     },
     "execution_count": 18,
     "metadata": {},
     "output_type": "execute_result"
    }
   ],
   "source": [
    "ce[1]"
   ]
  },
  {
   "cell_type": "code",
   "execution_count": 11,
   "metadata": {},
   "outputs": [
    {
     "data": {
      "text/plain": [
       "<tr>\n",
       "<td>Ada De Luca</td>\n",
       "<td>\n",
       "<a class=\"LocalJustificativaAusencia\" href=\"javascript:;\">Outras</a><div class=\"LocalJustificativaAusencia\">Reunião do inventário referente ao falecimento de seu esposo.</div> </td>\n",
       "</tr>"
      ]
     },
     "execution_count": 11,
     "metadata": {},
     "output_type": "execute_result"
    }
   ],
   "source": [
    "ce[0]"
   ]
  },
  {
   "cell_type": "code",
   "execution_count": 19,
   "metadata": {},
   "outputs": [
    {
     "data": {
      "text/plain": [
       "<tr>\n",
       "<td>Doutor Vicente</td>\n",
       "<td>\n",
       "                    Presente                </td>\n",
       "</tr>"
      ]
     },
     "execution_count": 19,
     "metadata": {},
     "output_type": "execute_result"
    }
   ],
   "source": [
    "ce[4]"
   ]
  },
  {
   "cell_type": "code",
   "execution_count": 20,
   "metadata": {},
   "outputs": [],
   "source": [
    "aus = ce[1].findAll(\"td\")\n",
    "pres = ce[4].findAll(\"td\")"
   ]
  },
  {
   "cell_type": "code",
   "execution_count": 25,
   "metadata": {},
   "outputs": [
    {
     "data": {
      "text/plain": [
       "'Atividade Parlamentar Externa'"
      ]
     },
     "execution_count": 25,
     "metadata": {},
     "output_type": "execute_result"
    }
   ],
   "source": [
    "aus[1].find('a').text"
   ]
  },
  {
   "cell_type": "code",
   "execution_count": 27,
   "metadata": {},
   "outputs": [
    {
     "data": {
      "text/plain": [
       "'Outras'"
      ]
     },
     "execution_count": 27,
     "metadata": {},
     "output_type": "execute_result"
    }
   ],
   "source": [
    "ce[0].findAll('td')[1].find('a').text"
   ]
  },
  {
   "cell_type": "code",
   "execution_count": 57,
   "metadata": {},
   "outputs": [],
   "source": [
    "justificativa = aus[1]"
   ]
  },
  {
   "cell_type": "code",
   "execution_count": 63,
   "metadata": {},
   "outputs": [
    {
     "data": {
      "text/plain": [
       "'Participar da Reunião Alianza Mercosur - Unión Europea, que acontecerá no dia 29 de setembro em La Plata - Província de Buenos Aires, Argentina.'"
      ]
     },
     "execution_count": 63,
     "metadata": {},
     "output_type": "execute_result"
    }
   ],
   "source": [
    "justificativa.find('div').text"
   ]
  },
  {
   "cell_type": "code",
   "execution_count": 46,
   "metadata": {},
   "outputs": [
    {
     "data": {
      "text/plain": [
       "'Ada De Luca'"
      ]
     },
     "execution_count": 46,
     "metadata": {},
     "output_type": "execute_result"
    }
   ],
   "source": [
    "ce[0].findAll('td')[0].text"
   ]
  },
  {
   "cell_type": "code",
   "execution_count": null,
   "metadata": {},
   "outputs": [],
   "source": []
  },
  {
   "cell_type": "code",
   "execution_count": null,
   "metadata": {},
   "outputs": [],
   "source": []
  }
 ],
 "metadata": {
  "kernelspec": {
   "display_name": "Python 3",
   "language": "python",
   "name": "python3"
  },
  "language_info": {
   "codemirror_mode": {
    "name": "ipython",
    "version": 3
   },
   "file_extension": ".py",
   "mimetype": "text/x-python",
   "name": "python",
   "nbconvert_exporter": "python",
   "pygments_lexer": "ipython3",
   "version": "3.7.1"
  }
 },
 "nbformat": 4,
 "nbformat_minor": 2
}
